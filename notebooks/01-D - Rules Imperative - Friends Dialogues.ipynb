{
 "cells": [
  {
   "cell_type": "code",
   "execution_count": 1,
   "metadata": {},
   "outputs": [],
   "source": [
    "# import statements\n",
    "import json\n",
    "import os\n",
    "import time"
   ]
  },
  {
   "cell_type": "code",
   "execution_count": 2,
   "metadata": {},
   "outputs": [],
   "source": [
    "# Define the keywords that will be used to extract the imperative sentences\n",
    "# Rules are identified from the paper - https://www.aclweb.org/anthology/W14-2117.pdf\n",
    "# 1. \"find those sentences with a verb (in its base form) as the root \n",
    "#     in the phrase structure and this particular verb has no \n",
    "#.    subject child in the dependency structure\" \n",
    "#.    Example: You must first discuss the matter there, and you need to be specific”\n",
    "# 2. \"recognize the use of a personal pronoun or noun (e.g., “you”, “we”,\n",
    "#.     or a username) followed by a modal verb (e.g., “should”, “must”, “need”) as an imperative\"\n",
    "\n",
    "\n",
    "# Source: https://www.myenglishpages.com/site_php_files/grammar-lesson-modals.php\n",
    "modal_verbs = ['can', 'could', 'may', 'might', 'will', 'would', 'shall','should', 'must', 'ought', 'dare', 'had better', 'ask']\n",
    "modal_verbs = ['can', 'may', 'might', 'will', 'would', 'shall','should', 'must', 'ought', 'dare', 'had better', 'ask']\n",
    "\n",
    "# Source: https://grammar.yourdictionary.com/parts-of-speech/pronouns/list-of-personal-pronouns.html\n",
    "# personal_pronoun = ['I', 'me', 'we', 'us', 'you', 'he', 'she', 'her', 'him', 'it', 'they', 'them']\n",
    "personal_pronoun = ['us', 'you', 'he', 'she', 'her', 'him', 'it', 'they', 'them']"
   ]
  },
  {
   "cell_type": "code",
   "execution_count": 3,
   "metadata": {},
   "outputs": [
    {
     "name": "stdout",
     "output_type": "stream",
     "text": [
      "Number of combinations for rule 2 = 108\n"
     ]
    }
   ],
   "source": [
    "# Check for rule 2\n",
    "\n",
    "# Create combinations of possibilities for a sentence to be imperative\n",
    "combinations = []\n",
    "# form combinations of words and put them as a list\n",
    "for pronoun in personal_pronoun:\n",
    "    for verb in modal_verbs:\n",
    "        combinations.append(pronoun + ' ' + verb)\n",
    "        \n",
    "print('Number of combinations for rule 2 =', len(combinations))"
   ]
  },
  {
   "cell_type": "code",
   "execution_count": 4,
   "metadata": {},
   "outputs": [],
   "source": [
    "# Using rule 2 to check imperative snetences\n",
    "def check_imperative_r2(combinations, sentence):\n",
    "    if any(combo in sentence.lower() for combo in combinations):\n",
    "        return True\n",
    "    return False"
   ]
  },
  {
   "cell_type": "code",
   "execution_count": 14,
   "metadata": {},
   "outputs": [],
   "source": [
    "IP_DIR = '../data/input/'\n",
    "OP_DIR = '../data/output/'\n",
    "\n",
    "dataset = 'friends/'"
   ]
  },
  {
   "cell_type": "markdown",
   "metadata": {},
   "source": [
    "## Friends Dialogue Dataset"
   ]
  },
  {
   "cell_type": "code",
   "execution_count": 13,
   "metadata": {},
   "outputs": [],
   "source": [
    "# Renaming files\n",
    "ip_path = os.path.join(IP_DIR, dataset)\n",
    "op_path = os.path.join(OP_DIR, dataset)\n",
    "\n",
    "text_key = 'text'\n",
    "op_ext = '.txt'\n",
    "op_filebase = 'processed_dialogues_'\n",
    "\n",
    "sentence = []\n",
    "count = 0\n",
    "file_count = 0\n",
    "\n",
    "tic = time.time()\n",
    "\n",
    "tweets_files = os.listdir(ip_path)\n",
    "# print('Files to be processed =', len(tweets_files))\n",
    "\n",
    "for filename in tweets_files:\n",
    "    if not filename.endswith('.friends'): \n",
    "        old_name = os.path.join(ip_path, filename)\n",
    "        new_name = os.path.join(ip_path, filename + '.friends')\n",
    "        os.rename(old_name, new_name)\n",
    "        # print(old_name, new_name)"
   ]
  },
  {
   "cell_type": "code",
   "execution_count": 6,
   "metadata": {},
   "outputs": [],
   "source": [
    "ip_path = os.path.join(IP_DIR, dataset)\n",
    "op_path = os.path.join(OP_DIR, dataset)\n",
    "\n",
    "text_key = 'text'\n",
    "op_ext = '.txt'\n",
    "op_filebase = 'dialogues_'\n",
    "\n",
    "sentence = []\n",
    "count = 0\n",
    "file_count = 0\n",
    "\n",
    "tic = time.time()\n",
    "\n",
    "tweets_files = os.listdir(ip_path)\n",
    "# print('Files to be processed =', len(tweets_files))\n",
    "\n",
    "for filename in tweets_files:\n",
    "    if filename.endswith('.friends'): \n",
    "            \n",
    "        ip_filename = os.path.join(ip_path, filename)\n",
    "\n",
    "        with open(ip_filename, \"r\") as fp:\n",
    "            for line in fp:\n",
    "                tweet = json.loads(line.strip())\n",
    "                \n",
    "                if text_key in tweet.keys():\n",
    "                    text = tweet['text']\n",
    "                    text = preprocess_tweet(text)\n",
    "\n",
    "                    if ((count%10000) == 0):\n",
    "                        op_filename = op_filebase+str(count+1)+op_ext\n",
    "                        op_filepath = os.path.join(op_path, op_filename)\n",
    "                        #print('Writing to ', op_filepath, end='\\r')\n",
    "                        with open(op_filepath, 'w', encoding='utf-8') as fp:\n",
    "                            fp.write(text+'\\n')\n",
    "                    else:\n",
    "                        with open(op_filepath, 'a', encoding='utf-8') as fp:\n",
    "                            fp.write(text+'\\n')\n",
    "                \n",
    "                    # sentence.append(text)\n",
    "                    \n",
    "                    count += 1\n",
    "    file_count += 1\n",
    "    print('Files ('+str(file_count)+'/'+str(len(tweets_files))+') - Tweets = ' + str(count) \\\n",
    "            + ' - File = ' + op_filename, end='\\r')\n",
    "    \n",
    "print('\\nTotal time:', (time.time()-tic), 'seconds')"
   ]
  },
  {
   "cell_type": "code",
   "execution_count": null,
   "metadata": {},
   "outputs": [],
   "source": []
  }
 ],
 "metadata": {
  "kernelspec": {
   "display_name": "sentgen",
   "language": "python",
   "name": "sentgen"
  },
  "language_info": {
   "codemirror_mode": {
    "name": "ipython",
    "version": 3
   },
   "file_extension": ".py",
   "mimetype": "text/x-python",
   "name": "python",
   "nbconvert_exporter": "python",
   "pygments_lexer": "ipython3",
   "version": "3.5.5"
  }
 },
 "nbformat": 4,
 "nbformat_minor": 2
}
