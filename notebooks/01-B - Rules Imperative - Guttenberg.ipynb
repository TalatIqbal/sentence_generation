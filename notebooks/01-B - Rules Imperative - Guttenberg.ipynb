{
 "cells": [
  {
   "cell_type": "code",
   "execution_count": 6,
   "metadata": {},
   "outputs": [],
   "source": [
    "# import statements\n",
    "import json\n",
    "import os\n",
    "import time\n",
    "import re"
   ]
  },
  {
   "cell_type": "code",
   "execution_count": 2,
   "metadata": {},
   "outputs": [],
   "source": [
    "# Define the keywords that will be used to extract the imperative sentences\n",
    "# Rules are identified from the paper - https://www.aclweb.org/anthology/W14-2117.pdf\n",
    "# 1. \"find those sentences with a verb (in its base form) as the root \n",
    "#     in the phrase structure and this particular verb has no \n",
    "#.    subject child in the dependency structure\" \n",
    "#.    Example: You must first discuss the matter there, and you need to be specific”\n",
    "# 2. \"recognize the use of a personal pronoun or noun (e.g., “you”, “we”,\n",
    "#.     or a username) followed by a modal verb (e.g., “should”, “must”, “need”) as an imperative\"\n",
    "\n",
    "\n",
    "# Source: https://www.myenglishpages.com/site_php_files/grammar-lesson-modals.php\n",
    "modal_verbs = ['can', 'could', 'may', 'might', 'will', 'would', 'shall','should', 'must', 'ought', 'dare', 'had better', 'ask']\n",
    "modal_verbs = ['can', 'may', 'might', 'will', 'would', 'shall','should', 'must', 'ought', 'dare', 'had better', 'ask']\n",
    "\n",
    "# Source: https://grammar.yourdictionary.com/parts-of-speech/pronouns/list-of-personal-pronouns.html\n",
    "# personal_pronoun = ['I', 'me', 'we', 'us', 'you', 'he', 'she', 'her', 'him', 'it', 'they', 'them']\n",
    "personal_pronoun = ['us', 'you', 'he', 'she', 'her', 'him', 'it', 'they', 'them']"
   ]
  },
  {
   "cell_type": "code",
   "execution_count": 3,
   "metadata": {},
   "outputs": [
    {
     "name": "stdout",
     "output_type": "stream",
     "text": [
      "Number of combinations for rule 2 = 108\n"
     ]
    }
   ],
   "source": [
    "# Check for rule 2\n",
    "\n",
    "# Create combinations of possibilities for a sentence to be imperative\n",
    "combinations = []\n",
    "# form combinations of words and put them as a list\n",
    "for pronoun in personal_pronoun:\n",
    "    for verb in modal_verbs:\n",
    "        combinations.append(pronoun + ' ' + verb)\n",
    "        \n",
    "print('Number of combinations for rule 2 =', len(combinations))"
   ]
  },
  {
   "cell_type": "code",
   "execution_count": 4,
   "metadata": {},
   "outputs": [],
   "source": [
    "# Using rule 2 to check imperative snetences\n",
    "def check_imperative_r2(combinations, sentence):\n",
    "    if any(combo in sentence.lower() for combo in combinations):\n",
    "        return True\n",
    "    return False"
   ]
  },
  {
   "cell_type": "code",
   "execution_count": 5,
   "metadata": {},
   "outputs": [],
   "source": [
    "IP_DIR = '../data/input/'\n",
    "OP_DIR = '../data/output/'"
   ]
  },
  {
   "cell_type": "markdown",
   "metadata": {},
   "source": [
    "## Using gutenberg dataset"
   ]
  },
  {
   "cell_type": "code",
   "execution_count": 7,
   "metadata": {},
   "outputs": [
    {
     "name": "stderr",
     "output_type": "stream",
     "text": [
      "[nltk_data] Downloading package gutenberg to /Users/talat/nltk_data...\n",
      "[nltk_data]   Package gutenberg is already up-to-date!\n"
     ]
    }
   ],
   "source": [
    "import nltk\n",
    "nltk.download('gutenberg')\n",
    "from nltk.corpus import gutenberg"
   ]
  },
  {
   "cell_type": "code",
   "execution_count": 8,
   "metadata": {},
   "outputs": [],
   "source": [
    "gutenberg_files = gutenberg.fileids()"
   ]
  },
  {
   "cell_type": "code",
   "execution_count": 9,
   "metadata": {},
   "outputs": [
    {
     "name": "stdout",
     "output_type": "stream",
     "text": [
      "Names of the sample books from Gutenberg are:\n",
      "\n",
      "1. austen-emma.txt\n",
      "2. austen-persuasion.txt\n",
      "3. austen-sense.txt\n",
      "4. bible-kjv.txt\n",
      "5. blake-poems.txt\n",
      "6. bryant-stories.txt\n",
      "7. burgess-busterbrown.txt\n",
      "8. carroll-alice.txt\n",
      "9. chesterton-ball.txt\n",
      "10. chesterton-brown.txt\n",
      "11. chesterton-thursday.txt\n",
      "12. edgeworth-parents.txt\n",
      "13. melville-moby_dick.txt\n",
      "14. milton-paradise.txt\n",
      "15. shakespeare-caesar.txt\n",
      "16. shakespeare-hamlet.txt\n",
      "17. shakespeare-macbeth.txt\n",
      "18. whitman-leaves.txt\n"
     ]
    }
   ],
   "source": [
    "print(\"Names of the sample books from Gutenberg are:\\n\")\n",
    "\n",
    "i = 1\n",
    "for g_file in gutenberg_files:\n",
    "    print(str(i)+'. ' + g_file)\n",
    "    i += 1"
   ]
  },
  {
   "cell_type": "code",
   "execution_count": 12,
   "metadata": {},
   "outputs": [
    {
     "name": "stdout",
     "output_type": "stream",
     "text": [
      "austen-emma.txt  = (Total 7752 / 1261 imperative)\n",
      "austen-persuasion.txt  = (Total 3747 / 1763 imperative)\n",
      "austen-sense.txt  = (Total 4999 / 2481 imperative)\n",
      "bible-kjv.txt  = (Total 30103 / 6259 imperative)\n",
      "blake-poems.txt  = (Total 438 / 6265 imperative)\n",
      "bryant-stories.txt  = (Total 2863 / 6471 imperative)\n",
      "burgess-busterbrown.txt  = (Total 1054 / 6534 imperative)\n",
      "carroll-alice.txt  = (Total 1703 / 6663 imperative)\n",
      "chesterton-ball.txt  = (Total 4779 / 6969 imperative)\n",
      "chesterton-brown.txt  = (Total 3806 / 7202 imperative)\n",
      "chesterton-thursday.txt  = (Total 3742 / 7433 imperative)\n",
      "edgeworth-parents.txt  = (Total 10230 / 8308 imperative)\n",
      "melville-moby_dick.txt  = (Total 10059 / 8940 imperative)\n",
      "milton-paradise.txt  = (Total 1851 / 9036 imperative)\n",
      "shakespeare-caesar.txt  = (Total 2163 / 9144 imperative)\n",
      "shakespeare-hamlet.txt  = (Total 3106 / 9265 imperative)\n",
      "shakespeare-macbeth.txt  = (Total 1907 / 9323 imperative)\n",
      "whitman-leaves.txt  = (Total 4250 / 9539 imperative)\n"
     ]
    }
   ],
   "source": [
    "#filter sentences from gutenberg ebooks\n",
    "\n",
    "sentences_g = []\n",
    "imper_g = []\n",
    "\n",
    "for f in gutenberg_files:\n",
    "    sentences = gutenberg.sents(f)\n",
    "#    print(f, 'has', len(sentences), 'sentences in total')\n",
    "    for s in sentences:\n",
    "        sent = \" \".join(s)\n",
    "        sentences_g.append(sent)\n",
    "        if check_imperative_r2(combinations, sent):\n",
    "            imper_g.append(sent)\n",
    "            \n",
    "    print(f, ' = (Total', len(sentences), '/', len(imper_g), 'imperative)')"
   ]
  },
  {
   "cell_type": "code",
   "execution_count": 15,
   "metadata": {},
   "outputs": [
    {
     "data": {
      "text/plain": [
       "['Mr . Weston is such a good - humoured , pleasant , excellent man , that he thoroughly deserves a good wife ;-- and you would not have had Miss Taylor live with us for ever , and bear all my odd humours , when she might have a house of her own ?\"',\n",
       " \"And as for James , you may be very sure he will always like going to Randalls , because of his daughter ' s being housemaid there .\",\n",
       " 'I only doubt whether he will ever take us anywhere else .',\n",
       " 'It was very lucky , for I would not have had poor James think himself slighted upon any account ; and I am sure she will make a very good servant : she is a civil , pretty - spoken girl ; I have a great opinion of her .',\n",
       " 'I am sure she will be an excellent servant ; and it will be a great comfort to poor Miss Taylor to have somebody about her that she is used to see .',\n",
       " 'Whenever James goes over to see his daughter , you know , she will be hearing of us .',\n",
       " 'He will be able to tell her how we all are .\"',\n",
       " 'I am afraid you must have had a shocking walk .\"',\n",
       " '\" But you must have found it very damp and dirty .',\n",
       " 'I wish you may not catch cold .\"',\n",
       " 'Being pretty well aware of what sort of joy you must both be feeling , I have been in no hurry with my congratulations ; but I hope it all went off tolerably well .',\n",
       " 'I have a great regard for you and Emma ; but when it comes to the question of dependence or independence !-- At any rate , it must be better to have only one to please than two .\"',\n",
       " '\" That is what you have in your head , I know -- and what you would certainly say if my father were not by .\"',\n",
       " 'Mr . Knightley , in fact , was one of the few people who could see faults in Emma Woodhouse , and the only one who ever told her of them : and though this was not particularly agreeable to Emma herself , she knew it would be so much less so to her father , that she would not have him really suspect such a circumstance as her not being thought perfect by every body .',\n",
       " 'Miss Taylor has been used to have two persons to please ; she will now have but one .',\n",
       " 'The chances are that she must be a gainer .\"',\n",
       " '\" We should not like her so well as we do , sir , if we could suppose it ; but she knows how much the marriage is to Miss Taylor \\' s advantage ; she knows how very acceptable it must be , at Miss Taylor \\' s time of life , to be settled in a home of her own , and how important to her to be secure of a comfortable provision , and therefore cannot allow herself to feel so much pain as pleasure .',\n",
       " 'my dear , I wish you would not make matches and foretell things , for whatever you say always comes to pass .',\n",
       " 'I planned the match from that hour ; and when such success has blessed me in this instance , dear papa , you cannot think that I shall leave off match - making .\"',\n",
       " \"But if , which I rather imagine , your making the match , as you call it , means only your planning it , your saying to yourself one idle day , ` I think it would be a very good thing for Miss Taylor if Mr . Weston were to marry her ,' and saying it again to yourself every now and then afterwards , why do you talk of success ?\",\n",
       " \"If I had not promoted Mr . Weston ' s visits here , and given many little encouragements , and smoothed many little matters , it might not have come to any thing after all .\",\n",
       " 'I think you must know Hartfield enough to comprehend that .\"',\n",
       " '\" Emma never thinks of herself , if she can do good to others ,\" rejoined Mr . Woodhouse , understanding but in part .',\n",
       " 'There is nobody in Highbury who deserves him -- and he has been here a whole year , and has fitted up his house so comfortably , that it would be a shame to have him single any longer -- and I thought when he was joining their hands to - day , he looked so very much as if he would like to have the same kind office done for him !',\n",
       " '\" With a great deal of pleasure , sir , at any time ,\" said Mr . Knightley , laughing , \" and I agree with you entirely , that it will be a much better thing .',\n",
       " 'Some scruples and some reluctance the widower - father may be supposed to have felt ; but as they were overcome by other considerations , the child was given up to the care and the wealth of the Churchills , and he had only his own comfort to seek , and his own situation to improve as he could .',\n",
       " \"It was most unlikely , therefore , that he should ever want his father ' s assistance .\",\n",
       " \"Now , upon his father ' s marriage , it was very generally proposed , as a most proper attention , that the visit should take place .\",\n",
       " 'She felt herself a most fortunate woman ; and she had lived long enough to know how fortunate she might well be thought , where the only regret was for a partial separation from friends whose friendship for her had never cooled , and who could ill bear to part with her .',\n",
       " \"She knew that at times she must be missed ; and could not think , without pain , of Emma ' s losing a single pleasure , or suffering an hour ' s ennui , from the want of her companionableness : but dear Emma was of no feeble character ; she was more equal to her situation than most girls would have been , and had sense , and energy , and spirits that might be hoped would bear her well and happily through its little difficulties and privations .\",\n",
       " 'She would be very glad to stay .\"',\n",
       " 'Had it taken place only once a year , it would have been a grievance .',\n",
       " \"She was not struck by any thing remarkably clever in Miss Smith ' s conversation , but she found her altogether very engaging -- not inconveniently shy , not unwilling to talk -- and yet so far from pushing , shewing so proper and becoming a deference , seeming so pleasantly grateful for being admitted to Hartfield , and so artlessly impressed by the appearance of every thing in so superior a style to what she had been used to , that she must have good sense , and deserve encouragement .\",\n",
       " 'They were a family of the name of Martin , whom Emma well knew by character , as renting a large farm of Mr . Knightley , and residing in the parish of Donwell -- very creditably , she believed -- she knew Mr . Knightley thought highly of them -- but they must be coarse and unpolished , and very unfit to be the intimates of a girl who wanted only a little more knowledge and elegance to be quite perfect .',\n",
       " '_She_ would notice her ; she would improve her ; she would detach her from her bad acquaintance , and introduce her into good society ; she would form her opinions and her manners .',\n",
       " 'It would be an interesting , and certainly a very kind undertaking ; highly becoming her own situation in life , her leisure , and powers .',\n",
       " 'He loved to have the cloth laid , because it had been the fashion of his youth , but his conviction of suppers being very unwholesome made him rather sorry to see any thing put on it ; and while his hospitality would have welcomed his visitors to every thing , his care for their health made him grieve that they would eat .',\n",
       " 'Such another small basin of thin gruel as his own was all that he could , with thorough self - approbation , recommend ; though he might constrain himself , while the ladies were comfortably clearing the nicer things , to say :',\n",
       " 'As a walking companion , Emma had very early foreseen how useful she might find her .',\n",
       " 'Mrs . Goddard , and the teachers , and the girls and the affairs of the school in general , formed naturally a great part of the conversation -- and but for her acquaintance with the Martins of Abbey - Mill Farm , it must have been the whole .',\n",
       " 'Emma encouraged her talkativeness -- amused by such a picture of another set of beings , and enjoying the youthful simplicity which could speak with so much exultation of Mrs . Martin \\' s having \" _two_ parlours , two very good parlours , indeed ; one of them quite as large as Mrs . Goddard \\' s drawing - room ; and of her having an upper maid who had lived five - and - twenty years with her ; and of their having eight cows , two of them Alderneys , and one a little Welch cow , a very pretty little Welch cow indeed ; and of Mrs . Martin \\' s saying as she was so fond of it , it should be called _her_ cow ; and of their having a very handsome summer - house in their garden , where some day next year they were all to drink tea :-- a very handsome summer - house , large enough to hold a dozen people .\"',\n",
       " \"She had taken up a wrong idea , fancying it was a mother and daughter , a son and son ' s wife , who all lived together ; but when it appeared that the Mr . Martin , who bore a part in the narrative , and was always mentioned with approbation for his great good - nature in doing something or other , was a single man ; that there was no young Mrs . Martin , no wife in the case ; she did suspect danger to her poor little friend from all this hospitality and kindness , and that , if she were not taken care of , she might be required to sink herself forever .\",\n",
       " 'Mrs . Martin had told her one day ( and there was a blush as she said it ,) that it was impossible for any body to be a better son , and therefore she was sure , whenever he married , he would make a good husband .',\n",
       " '\" Oh yes !-- that is , no -- I do not know -- but I believe he has read a good deal -- but not what you would think any thing of .',\n",
       " 'But sometimes of an evening , before we went to cards , he would read something aloud out of the Elegant Extracts , very entertaining .',\n",
       " 'He had never heard of such books before I mentioned them , but he is determined to get them now as soon as ever he can .\"',\n",
       " 'It is not likely you should ever have observed him ; but he knows you very well indeed -- I mean by sight .\"',\n",
       " 'They seem very comfortable as they are , and if she were to take any pains to marry him , she would probably repent it .',\n",
       " 'Six years hence , if he could meet with a good sort of young woman in the same rank as his own , with a little money , it might be very desirable .\"',\n",
       " 'Dear Miss Woodhouse , he would be thirty years old !\"',\n",
       " 'Whatever money he might come into when his father died , whatever his share of the family property , it is , I dare say , all afloat , all employed in his stock , and so forth ; and though , with diligence and good luck , he may be rich in time , it is next to impossible that he should have realised any thing yet .\"',\n",
       " '\" I wish you may not get into a scrape , Harriet , whenever he does marry ;-- I mean , as to being acquainted with his wife -- for though his sisters , from a superior education , are not to be altogether objected to , it does not follow that he might marry any body at all fit for you to notice .',\n",
       " 'There can be no doubt of your being a gentleman \\' s daughter , and you must support your claim to that station by every thing within your own power , or there will be plenty of people who would take pleasure in degrading you .\"',\n",
       " 'I want to see you permanently well connected , and to that end it will be advisable to have as few odd acquaintance as may be ; and , therefore , I say that if you should still be in this country when Mr . Martin marries , I wish you may not be drawn in by your intimacy with the sisters , to be acquainted with the wife , who will probably be some mere farmer \\' s daughter , without education .\"',\n",
       " \"His appearance was very neat , and he looked like a sensible young man , but his person had no other advantage ; and when he came to be contrasted with gentlemen , she thought he must lose all the ground he had gained in Harriet ' s inclination .\",\n",
       " '\" I think , Harriet , since your acquaintance with us , you have been repeatedly in the company of some such very real gentlemen , that you must yourself be struck with the difference in Mr . Martin .',\n",
       " 'I am sure you must have been struck by his awkward look and abrupt manner , and the uncouthness of a voice which I heard to be wholly unmodulated as I stood here .\"',\n",
       " 'You might not see one in a hundred with _gentleman_ so plainly written as in Mr . Knightley .',\n",
       " 'You must see the difference .\"',\n",
       " 'He will be a completely gross , vulgar farmer , totally inattentive to appearances , and thinking of nothing but profit and loss .\"',\n",
       " 'He was a great deal too full of the market to think of any thing else -- which is just as it should be , for a thriving man .',\n",
       " 'They might be more safely held up as a pattern .',\n",
       " \"Neither would Mr . Knightley ' s downright , decided , commanding sort of manner , though it suits _him_ very well ; his figure , and look , and situation in life seem to allow it ; but if any young man were to set about copying him , he would not be sufferable .\",\n",
       " 'If he means any thing , it must be to please you .',\n",
       " 'She thought it would be an excellent match ; and only too palpably desirable , natural , and probable , for her to have much merit in planning it .',\n",
       " \"She had already satisfied herself that he thought Harriet a beautiful girl , which she trusted , with such frequent meetings at Hartfield , was foundation enough on his side ; and on Harriet ' s there could be little doubt that the idea of being preferred by him would have all the usual weight and efficacy .\",\n",
       " 'And he was really a very pleasing young man , a young man whom any woman not fastidious might like .',\n",
       " \"He was reckoned very handsome ; his person much admired in general , though not by her , there being a want of elegance of feature which she could not dispense with :-- but the girl who could be gratified by a Robert Martin ' s riding about the country to get walnuts for her might very well be conquered by Mr . Elton ' s admiration .\",\n",
       " '\" I think they will neither of them do the other any good .\"',\n",
       " 'How very differently we feel !-- Not think they will do each other any good !',\n",
       " '\" Perhaps you think I am come on purpose to quarrel with you , knowing Weston to be out , and that you must still fight your own battle .\"',\n",
       " 'But on the other hand , as Emma wants to see her better informed , it will be an inducement to her to read more herself .',\n",
       " 'They will read together .',\n",
       " 'The list she drew up when only fourteen -- I remember thinking it did her judgment so much credit , that I preserved it some time ; and I dare say she may have made out a very good list now .',\n",
       " 'She will never submit to any thing requiring industry and patience , and a subjection of the fancy to the understanding .',\n",
       " '\" I should have been sorry , Mr . Knightley , to be dependent on _your_ recommendation , had I quitted Mr . Woodhouse \\' s family and wanted another situation ; I do not think you would have spoken a good word for me to any body .',\n",
       " 'You might not give Emma such a complete education as your powers would seem to promise ; but you were receiving a very good education from _her_ , on the very material matrimonial point of submitting your own will , and doing as you were bid ; and if Weston had asked me to recommend him a wife , I should certainly have named Miss Taylor .\"',\n",
       " 'She will grow just refined enough to be uncomfortable with those among whom birth and circumstances have placed her home .',\n",
       " 'you would rather talk of her person than her mind , would you ?',\n",
       " 'No , no ; she has qualities which may be trusted ; she will never lead any one really wrong ; she will make no lasting blunder ; where Emma errs once , she is in the right a hundred times .\"',\n",
       " '\" I know that you all love her really too well to be unjust or unkind ; but excuse me , Mr . Knightley , if I take the liberty ( I consider myself , you know , as having somewhat of the privilege of speech that Emma \\' s mother might have had ) the liberty of hinting that I do not think any possible good can arise from Harriet Smith \\' s intimacy being made a matter of much discussion among you .',\n",
       " 'Pray excuse me ; but supposing any little inconvenience may be apprehended from the intimacy , it cannot be expected that Emma , accountable to nobody but her father , who perfectly approves the acquaintance , should put an end to it , so long as it is a source of pleasure to herself .',\n",
       " 'It has been so many years my province to give advice , that you cannot be surprized , Mr . Knightley , at this little remains of office .\"',\n",
       " 'It is very good advice , and it shall have a better fate than your advice has often found ; for it shall be attended to .\"',\n",
       " '\" She always declares she will never marry , which , of course , means just nothing at all .',\n",
       " 'It would not be a bad thing for her to be very much in love with a proper object .',\n",
       " 'I should like to see Emma in love , and in some doubt of a return ; it would do her good .',\n",
       " '\" What an exquisite possession a good picture of her would be !',\n",
       " 'It would be such a delight to have her picture !\"',\n",
       " '\" Let me entreat you ,\" cried Mr . Elton ; \" it would indeed be a delight !',\n",
       " 'As you will do it , it will indeed , to use your own words , be an exquisite possession .\"',\n",
       " 'But still I cannot imagine she would not be persuaded .\"',\n",
       " 'Emma wished to go to work directly , and therefore produced the portfolio containing her various attempts at portraits , for not one of them had ever been finished , that they might decide together on the best size for Harriet .',\n",
       " 'She had always wanted to do every thing , and had made more progress both in drawing and music than many might have done with so little labour as she would ever submit to .',\n",
       " 'She played and sang ;-- and drew in almost every style ; but steadiness had always been wanting ; and in nothing had she approached the degree of excellence which she would have been glad to command , and ought not to have failed of .',\n",
       " 'She would sit whenever I asked her .',\n",
       " 'I should have made a good likeness of her , if she would have sat longer , but she was in such a hurry to have me draw her four children that she would not be quiet .',\n",
       " 'Then , here come all my attempts at three of those four children ;-- there they are , Henry and John and Bella , from one end of the sheet to the other , and any one of them might do for any one of the rest .',\n",
       " 'I took him as he was sleeping on the sofa , and it is as strong a likeness of his cockade as you would wish to see .',\n",
       " 'She gave him credit for stationing himself where he might gaze and gaze again without offence ; but was really obliged to put an end to it , and request him to place himself elsewhere .']"
      ]
     },
     "execution_count": 15,
     "metadata": {},
     "output_type": "execute_result"
    }
   ],
   "source": [
    "imper_g[0:100]"
   ]
  },
  {
   "cell_type": "code",
   "execution_count": 13,
   "metadata": {},
   "outputs": [],
   "source": [
    "dataset = 'guttenberg'\n",
    "ip_path = os.path.join(IP_DIR, dataset)\n",
    "op_path = os.path.join(OP_DIR, dataset)\n",
    "\n",
    "op_filepath = os.path.join(op_path, 'imperatives.txt')\n",
    "with open(op_filepath, 'w') as fp:\n",
    "    for sent in imper_g:\n",
    "        fp.write(str(sent) + '\\n')"
   ]
  },
  {
   "cell_type": "code",
   "execution_count": null,
   "metadata": {},
   "outputs": [],
   "source": []
  }
 ],
 "metadata": {
  "kernelspec": {
   "display_name": "sentgen",
   "language": "python",
   "name": "sentgen"
  },
  "language_info": {
   "codemirror_mode": {
    "name": "ipython",
    "version": 3
   },
   "file_extension": ".py",
   "mimetype": "text/x-python",
   "name": "python",
   "nbconvert_exporter": "python",
   "pygments_lexer": "ipython3",
   "version": "3.5.5"
  }
 },
 "nbformat": 4,
 "nbformat_minor": 2
}
